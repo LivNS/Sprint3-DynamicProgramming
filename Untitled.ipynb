{
 "cells": [
  {
   "cell_type": "code",
   "execution_count": null,
   "id": "292a2d2e-27a3-480f-92de-34d4f448103c",
   "metadata": {
    "tags": []
   },
   "outputs": [
    {
     "name": "stdin",
     "output_type": "stream",
     "text": [
      "Digite seu login:  usuario\n",
      "Digite sua senha:  2323\n"
     ]
    },
    {
     "name": "stdout",
     "output_type": "stream",
     "text": [
      "Falha na autenticação. Verifique seu login e senha.\n",
      "Acesso negado. Tente novamente.\n"
     ]
    },
    {
     "name": "stdin",
     "output_type": "stream",
     "text": [
      "Digite seu login:  livinha\n",
      "Digite sua senha:  1234\n"
     ]
    },
    {
     "name": "stdout",
     "output_type": "stream",
     "text": [
      "Falha na autenticação. Verifique seu login e senha.\n",
      "Acesso negado. Tente novamente.\n"
     ]
    },
    {
     "name": "stdin",
     "output_type": "stream",
     "text": [
      "Digite seu login:  usuario\n"
     ]
    }
   ],
   "source": [
    "import numpy as np\n",
    "import pandas as pd\n",
    "import time\n",
    "\n",
    "# Função para simular o login do usuário\n",
    "def login(username, password):\n",
    "    # Simula o login do usuário (pode ser integrado com um banco de dados real)\n",
    "    if username == \"usuario\" and password == \"1234\":\n",
    "        print(\"Login bem-sucedido! Bem-vindo ao LaparoVR.\")\n",
    "        return True\n",
    "    else:\n",
    "        print(\"Falha na autenticação. Verifique seu login e senha.\")\n",
    "        return False\n",
    "\n",
    "# Função para iniciar o ambiente de simulação VR\n",
    "def iniciar_simulacao():\n",
    "    print(\"Iniciando simulação VR de cirurgia laparoscópica...\")\n",
    "    # Equipamentos e ferramentas simuladas\n",
    "    ferramentas = [\"Pinça\", \"Câmera\", \"Bisturi\"]\n",
    "    print(f\"Ferramentas disponíveis: {ferramentas}\")\n",
    "    time.sleep(2)\n",
    "\n",
    "# Função para coletar dados durante o procedimento (tempo, precisão, erros)\n",
    "def coletar_dados_simulacao():\n",
    "    tempo_execucao = np.random.randint(300, 600)  # Tempo entre 5 a 10 minutos\n",
    "    precisao = np.random.randint(70, 100)  # Precisão entre 70% a 100%\n",
    "    erros = np.random.randint(0, 5)  # Erros cometidos (0 a 5)\n",
    "    return tempo_execucao, precisao, erros\n",
    "\n",
    "# Função para avaliar o desempenho e fornecer feedback\n",
    "def avaliar_desempenho(dados):\n",
    "    print(\"\\n--- Relatório de Desempenho ---\")\n",
    "    print(f\"Tempo Total: {dados[0]} segundos\")\n",
    "    print(f\"Pontuação de Precisão: {dados[1]}%\")\n",
    "    print(f\"Erros Cometidos: {dados[2]}\")\n",
    "    if dados[1] >= 85:\n",
    "        print(\"Desempenho satisfatório. Continue praticando!\")\n",
    "    else:\n",
    "        print(\"Atenção: É necessário melhorar sua precisão.\")\n",
    "\n",
    "# Função para armazenar os resultados em um DataFrame\n",
    "def armazenar_resultados(tabela, dados):\n",
    "    # Adiciona os resultados à tabela (DataFrame)\n",
    "    nova_linha = pd.DataFrame([dados], columns=['Tempo de Execução (segundos)', 'Precisão (%)', 'Erros Cometidos'])\n",
    "    tabela = pd.concat([tabela, nova_linha], ignore_index=True)  # Concatena\n",
    "    return tabela\n",
    "\n",
    "# Função para simular a visualização do progresso no portal\n",
    "def ver_progresso(tabela):\n",
    "    print(\"\\n--- Histórico de Treinamento ---\")\n",
    "    print(tabela)\n",
    "\n",
    "# Função para o menu principal\n",
    "def menu_principal(tabela_resultados):\n",
    "    while True:\n",
    "        print(\"\\nPainel de Controle:\")\n",
    "        print(\"1. Iniciar Treinamento\")\n",
    "        print(\"2. Ver Progresso\")\n",
    "        print(\"3. Sair\")\n",
    "        \n",
    "        opcao = input(\"Selecione uma opção: \")\n",
    "        \n",
    "        if opcao == '1':\n",
    "            iniciar_simulacao()\n",
    "            # Coleta os dados da simulação\n",
    "            dados = coletar_dados_simulacao()\n",
    "           \n",
    "            # Avalia o desempenho do usuário\n",
    "            avaliar_desempenho(dados)\n",
    "           \n",
    "            # Armazena os resultados\n",
    "            tabela_resultados = armazenar_resultados(tabela_resultados, dados)\n",
    "        \n",
    "        elif opcao == '2':\n",
    "            ver_progresso(tabela_resultados)\n",
    "        elif opcao == '3':\n",
    "            print(\"Saindo do sistema. Até logo!\")\n",
    "            break\n",
    "        else:\n",
    "            print(\"Opção inválida. Tente novamente.\")\n",
    "\n",
    "# Função principal do sistema\n",
    "def main():\n",
    "    # Simula o banco de dados de resultados\n",
    "    tabela_resultados = pd.DataFrame(columns=['Tempo de Execução (segundos)', 'Precisão (%)', 'Erros Cometidos'])\n",
    "   \n",
    "    while True:  # Loop para tentar login\n",
    "        username = input(\"Digite seu login: \")\n",
    "        password = input(\"Digite sua senha: \")\n",
    "       \n",
    "        if login(username, password):\n",
    "            menu_principal(tabela_resultados)\n",
    "            break  # Sai do loop após o menu principal\n",
    "        else:\n",
    "            print(\"Acesso negado. Tente novamente.\")\n",
    "\n",
    "# Inicia o sistema\n",
    "if __name__ == \"__main__\":\n",
    "    main()\n"
   ]
  },
  {
   "cell_type": "code",
   "execution_count": null,
   "id": "ab4e90f7-c92a-4b83-8fc4-827d075f8337",
   "metadata": {},
   "outputs": [],
   "source": []
  },
  {
   "cell_type": "code",
   "execution_count": null,
   "id": "4da78a3f-3b2c-4386-9209-4f1c01511cf8",
   "metadata": {},
   "outputs": [],
   "source": []
  }
 ],
 "metadata": {
  "kernelspec": {
   "display_name": "Python 3 (ipykernel)",
   "language": "python",
   "name": "python3"
  },
  "language_info": {
   "codemirror_mode": {
    "name": "ipython",
    "version": 3
   },
   "file_extension": ".py",
   "mimetype": "text/x-python",
   "name": "python",
   "nbconvert_exporter": "python",
   "pygments_lexer": "ipython3",
   "version": "3.11.7"
  }
 },
 "nbformat": 4,
 "nbformat_minor": 5
}
